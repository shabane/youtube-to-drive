{
  "nbformat": 4,
  "nbformat_minor": 0,
  "metadata": {
    "colab": {
      "name": "Untitled4.ipynb",
      "provenance": [],
      "collapsed_sections": []
    },
    "kernelspec": {
      "name": "python3",
      "display_name": "Python 3"
    },
    "language_info": {
      "name": "python"
    }
  },
  "cells": [
    {
      "cell_type": "markdown",
      "metadata": {
        "id": "-nXbyjg-5JFr"
      },
      "source": [
        "**download youtube playlist and upload theme to google drive using google colab**\n",
        "\n",
        "\n",
        "\n"
      ]
    },
    {
      "cell_type": "markdown",
      "metadata": {
        "id": "mcm84HRVCEq3"
      },
      "source": [
        "fist thing is to intall youtube-dl program.\n",
        "this program can download a youtube video by it link.\n",
        "even by the link of video or playlist it can download whole the videos of the playlist.\n",
        "\n",
        "so by this command we will install youtube-dl"
      ]
    },
    {
      "cell_type": "code",
      "metadata": {
        "id": "fx1kHyoiAk9f"
      },
      "source": [
        "!pip install youtube-dl"
      ],
      "execution_count": null,
      "outputs": []
    },
    {
      "cell_type": "markdown",
      "metadata": {
        "id": "wfj39OgJw_Z3"
      },
      "source": [
        "to move videos to google-drive we should mount google drive in to a directory. for that run bellow section."
      ]
    },
    {
      "cell_type": "code",
      "metadata": {
        "id": "3Lz2rswD5SSp"
      },
      "source": [
        "from google.colab import drive\n",
        "drive.mount('/content/drive')"
      ],
      "execution_count": null,
      "outputs": []
    },
    {
      "cell_type": "markdown",
      "metadata": {
        "id": "qIK8-uXWCyHS"
      },
      "source": [
        "next thing is that to download the playlist.\n",
        "to do that paste the playlist link in the duble quote in the bellow section.\n"
      ]
    },
    {
      "cell_type": "code",
      "metadata": {
        "id": "2eOvhY_aBoMI"
      },
      "source": [
        "!cd drive/MyDrive && youtube-dl --yes-playlist \"Paste playlist link here\""
      ],
      "execution_count": null,
      "outputs": []
    },
    {
      "cell_type": "markdown",
      "metadata": {
        "id": "5viNHzzpzAde"
      },
      "source": [
        "\n",
        "**if download croupet. just run this section again. it will resume from the last download.**\n",
        "\n",
        "**and be aware to delete google drive recycle bin, procces of downloading have a lots of junk file**"
      ]
    }
  ]
}